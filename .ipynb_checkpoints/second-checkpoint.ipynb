{
 "cells": [
  {
   "cell_type": "markdown",
   "id": "375a3805-dd26-450a-a39b-41ee97b62559",
   "metadata": {},
   "source": [
    "# Second Chance Tournament Predictions\n",
    "Author Glen Joy (c) 2024\n",
    "\n",
    "Re-training a new model to predict the 2024 March Madness tournament from the Sweet-16 onward."
   ]
  },
  {
   "cell_type": "code",
   "execution_count": 1,
   "id": "3b691048-6811-48fb-a661-e6c811d5103d",
   "metadata": {},
   "outputs": [],
   "source": [
    "import pandas as pd\n",
    "import numpy as np\n",
    "import random\n",
    "from sklearn.model_selection import train_test_split\n",
    "from sklearn.ensemble import RandomForestClassifier\n",
    "from sklearn import metrics"
   ]
  },
  {
   "cell_type": "markdown",
   "id": "a6a92a6e-f2da-472b-9174-a11f2b4fa12c",
   "metadata": {},
   "source": [
    "## Importing Data\n",
    "We will use the same training data as we did in the first model (predict.ipynb)"
   ]
  },
  {
   "cell_type": "code",
   "execution_count": 2,
   "id": "94efc3c0-9f39-4ea2-b4f1-87c11d26dfca",
   "metadata": {},
   "outputs": [
    {
     "data": {
      "text/html": [
       "<div>\n",
       "<style scoped>\n",
       "    .dataframe tbody tr th:only-of-type {\n",
       "        vertical-align: middle;\n",
       "    }\n",
       "\n",
       "    .dataframe tbody tr th {\n",
       "        vertical-align: top;\n",
       "    }\n",
       "\n",
       "    .dataframe thead th {\n",
       "        text-align: right;\n",
       "    }\n",
       "</style>\n",
       "<table border=\"1\" class=\"dataframe\">\n",
       "  <thead>\n",
       "    <tr style=\"text-align: right;\">\n",
       "      <th></th>\n",
       "      <th>Unnamed: 0</th>\n",
       "      <th>YEAR</th>\n",
       "      <th>TEAM_1</th>\n",
       "      <th>TEAM_2</th>\n",
       "      <th>WINNER</th>\n",
       "      <th>TEAM_ONE</th>\n",
       "      <th>CONF_ONE</th>\n",
       "      <th>ADJOE_ONE</th>\n",
       "      <th>ADJDE_ONE</th>\n",
       "      <th>BARTHAG_x_ONE</th>\n",
       "      <th>...</th>\n",
       "      <th>EFF HGT_TWO</th>\n",
       "      <th>EXP_TWO</th>\n",
       "      <th>TALENT_TWO</th>\n",
       "      <th>FT%_TWO</th>\n",
       "      <th>OP FT%_TWO</th>\n",
       "      <th>PPPO_TWO</th>\n",
       "      <th>PPPD_TWO</th>\n",
       "      <th>ELITE SOS_TWO</th>\n",
       "      <th>WAB_y_TWO</th>\n",
       "      <th>WIN_PCT_CONF_TWO</th>\n",
       "    </tr>\n",
       "  </thead>\n",
       "  <tbody>\n",
       "    <tr>\n",
       "      <th>0</th>\n",
       "      <td>0</td>\n",
       "      <td>2013</td>\n",
       "      <td>LIU Brooklyn</td>\n",
       "      <td>James Madison</td>\n",
       "      <td>2</td>\n",
       "      <td>LIU Brooklyn</td>\n",
       "      <td>NEC</td>\n",
       "      <td>108.1</td>\n",
       "      <td>111.2</td>\n",
       "      <td>0.4195</td>\n",
       "      <td>...</td>\n",
       "      <td>79.880</td>\n",
       "      <td>1.595</td>\n",
       "      <td>19.579</td>\n",
       "      <td>69.9</td>\n",
       "      <td>70.3</td>\n",
       "      <td>1.005</td>\n",
       "      <td>1.029</td>\n",
       "      <td>12.956</td>\n",
       "      <td>-11.2</td>\n",
       "      <td>0.448680</td>\n",
       "    </tr>\n",
       "    <tr>\n",
       "      <th>1</th>\n",
       "      <td>1</td>\n",
       "      <td>2013</td>\n",
       "      <td>La Salle</td>\n",
       "      <td>Boise St</td>\n",
       "      <td>1</td>\n",
       "      <td>La Salle</td>\n",
       "      <td>A10</td>\n",
       "      <td>112.0</td>\n",
       "      <td>96.2</td>\n",
       "      <td>0.8516</td>\n",
       "      <td>...</td>\n",
       "      <td>80.035</td>\n",
       "      <td>1.826</td>\n",
       "      <td>24.940</td>\n",
       "      <td>70.8</td>\n",
       "      <td>68.8</td>\n",
       "      <td>1.031</td>\n",
       "      <td>0.980</td>\n",
       "      <td>25.212</td>\n",
       "      <td>-1.4</td>\n",
       "      <td>0.611722</td>\n",
       "    </tr>\n",
       "    <tr>\n",
       "      <th>2</th>\n",
       "      <td>2</td>\n",
       "      <td>2013</td>\n",
       "      <td>Arizona</td>\n",
       "      <td>Belmont</td>\n",
       "      <td>1</td>\n",
       "      <td>Arizona</td>\n",
       "      <td>P12</td>\n",
       "      <td>114.4</td>\n",
       "      <td>92.2</td>\n",
       "      <td>0.9229</td>\n",
       "      <td>...</td>\n",
       "      <td>78.906</td>\n",
       "      <td>1.956</td>\n",
       "      <td>4.688</td>\n",
       "      <td>70.7</td>\n",
       "      <td>71.2</td>\n",
       "      <td>1.018</td>\n",
       "      <td>1.038</td>\n",
       "      <td>12.869</td>\n",
       "      <td>-10.0</td>\n",
       "      <td>0.474138</td>\n",
       "    </tr>\n",
       "    <tr>\n",
       "      <th>3</th>\n",
       "      <td>3</td>\n",
       "      <td>2013</td>\n",
       "      <td>Butler</td>\n",
       "      <td>Bucknell</td>\n",
       "      <td>1</td>\n",
       "      <td>Butler</td>\n",
       "      <td>A10</td>\n",
       "      <td>109.2</td>\n",
       "      <td>93.0</td>\n",
       "      <td>0.8624</td>\n",
       "      <td>...</td>\n",
       "      <td>79.883</td>\n",
       "      <td>1.667</td>\n",
       "      <td>3.239</td>\n",
       "      <td>72.4</td>\n",
       "      <td>68.8</td>\n",
       "      <td>1.008</td>\n",
       "      <td>1.016</td>\n",
       "      <td>14.044</td>\n",
       "      <td>-9.8</td>\n",
       "      <td>0.485830</td>\n",
       "    </tr>\n",
       "    <tr>\n",
       "      <th>4</th>\n",
       "      <td>4</td>\n",
       "      <td>2013</td>\n",
       "      <td>UNLV</td>\n",
       "      <td>California</td>\n",
       "      <td>2</td>\n",
       "      <td>UNLV</td>\n",
       "      <td>MWC</td>\n",
       "      <td>104.7</td>\n",
       "      <td>88.4</td>\n",
       "      <td>0.8749</td>\n",
       "      <td>...</td>\n",
       "      <td>81.109</td>\n",
       "      <td>1.664</td>\n",
       "      <td>55.458</td>\n",
       "      <td>70.3</td>\n",
       "      <td>69.5</td>\n",
       "      <td>1.027</td>\n",
       "      <td>0.977</td>\n",
       "      <td>26.463</td>\n",
       "      <td>-1.8</td>\n",
       "      <td>0.587629</td>\n",
       "    </tr>\n",
       "  </tbody>\n",
       "</table>\n",
       "<p>5 rows × 126 columns</p>\n",
       "</div>"
      ],
      "text/plain": [
       "   Unnamed: 0  YEAR        TEAM_1         TEAM_2  WINNER      TEAM_ONE  \\\n",
       "0           0  2013  LIU Brooklyn  James Madison       2  LIU Brooklyn   \n",
       "1           1  2013      La Salle       Boise St       1      La Salle   \n",
       "2           2  2013       Arizona        Belmont       1       Arizona   \n",
       "3           3  2013        Butler       Bucknell       1        Butler   \n",
       "4           4  2013          UNLV     California       2          UNLV   \n",
       "\n",
       "  CONF_ONE  ADJOE_ONE  ADJDE_ONE  BARTHAG_x_ONE  ...  EFF HGT_TWO  EXP_TWO  \\\n",
       "0      NEC      108.1      111.2         0.4195  ...       79.880    1.595   \n",
       "1      A10      112.0       96.2         0.8516  ...       80.035    1.826   \n",
       "2      P12      114.4       92.2         0.9229  ...       78.906    1.956   \n",
       "3      A10      109.2       93.0         0.8624  ...       79.883    1.667   \n",
       "4      MWC      104.7       88.4         0.8749  ...       81.109    1.664   \n",
       "\n",
       "   TALENT_TWO  FT%_TWO  OP FT%_TWO  PPPO_TWO  PPPD_TWO  ELITE SOS_TWO  \\\n",
       "0      19.579     69.9        70.3     1.005     1.029         12.956   \n",
       "1      24.940     70.8        68.8     1.031     0.980         25.212   \n",
       "2       4.688     70.7        71.2     1.018     1.038         12.869   \n",
       "3       3.239     72.4        68.8     1.008     1.016         14.044   \n",
       "4      55.458     70.3        69.5     1.027     0.977         26.463   \n",
       "\n",
       "   WAB_y_TWO  WIN_PCT_CONF_TWO  \n",
       "0      -11.2          0.448680  \n",
       "1       -1.4          0.611722  \n",
       "2      -10.0          0.474138  \n",
       "3       -9.8          0.485830  \n",
       "4       -1.8          0.587629  \n",
       "\n",
       "[5 rows x 126 columns]"
      ]
     },
     "execution_count": 2,
     "metadata": {},
     "output_type": "execute_result"
    }
   ],
   "source": [
    "traindf = pd.read_csv('./data/training_data.csv')\n",
    "traindf.head()"
   ]
  },
  {
   "cell_type": "code",
   "execution_count": 3,
   "id": "c568b217-707a-4fa7-8c92-6bb5e5446fee",
   "metadata": {},
   "outputs": [],
   "source": [
    "labels = np.array(traindf['WINNER'])\n",
    "traindf = traindf.drop(['WINNER', 'Unnamed: 0', 'TEAM_1', 'TEAM_2', 'TEAM_ONE', 'TEAM_TWO', 'CONF_ONE', 'CONF_TWO', 'POSTSEASON_ONE', 'POSTSEASON_TWO', 'YEAR.1'], axis=1) "
   ]
  },
  {
   "cell_type": "code",
   "execution_count": 4,
   "id": "19a27310-a0a5-48cb-aa7c-76b7553483f9",
   "metadata": {},
   "outputs": [
    {
     "data": {
      "text/html": [
       "<div>\n",
       "<style scoped>\n",
       "    .dataframe tbody tr th:only-of-type {\n",
       "        vertical-align: middle;\n",
       "    }\n",
       "\n",
       "    .dataframe tbody tr th {\n",
       "        vertical-align: top;\n",
       "    }\n",
       "\n",
       "    .dataframe thead th {\n",
       "        text-align: right;\n",
       "    }\n",
       "</style>\n",
       "<table border=\"1\" class=\"dataframe\">\n",
       "  <thead>\n",
       "    <tr style=\"text-align: right;\">\n",
       "      <th></th>\n",
       "      <th>YEAR</th>\n",
       "      <th>ADJOE_ONE</th>\n",
       "      <th>ADJDE_ONE</th>\n",
       "      <th>BARTHAG_x_ONE</th>\n",
       "      <th>EFG_O_ONE</th>\n",
       "      <th>EFG_D_ONE</th>\n",
       "      <th>TOR_ONE</th>\n",
       "      <th>TORD_ONE</th>\n",
       "      <th>ORB_ONE</th>\n",
       "      <th>DRB_ONE</th>\n",
       "      <th>...</th>\n",
       "      <th>EFF HGT_TWO</th>\n",
       "      <th>EXP_TWO</th>\n",
       "      <th>TALENT_TWO</th>\n",
       "      <th>FT%_TWO</th>\n",
       "      <th>OP FT%_TWO</th>\n",
       "      <th>PPPO_TWO</th>\n",
       "      <th>PPPD_TWO</th>\n",
       "      <th>ELITE SOS_TWO</th>\n",
       "      <th>WAB_y_TWO</th>\n",
       "      <th>WIN_PCT_CONF_TWO</th>\n",
       "    </tr>\n",
       "  </thead>\n",
       "  <tbody>\n",
       "    <tr>\n",
       "      <th>0</th>\n",
       "      <td>2013</td>\n",
       "      <td>108.1</td>\n",
       "      <td>111.2</td>\n",
       "      <td>0.4195</td>\n",
       "      <td>54.4</td>\n",
       "      <td>52.6</td>\n",
       "      <td>20.3</td>\n",
       "      <td>18.4</td>\n",
       "      <td>35.2</td>\n",
       "      <td>33.5</td>\n",
       "      <td>...</td>\n",
       "      <td>79.880</td>\n",
       "      <td>1.595</td>\n",
       "      <td>19.579</td>\n",
       "      <td>69.9</td>\n",
       "      <td>70.3</td>\n",
       "      <td>1.005</td>\n",
       "      <td>1.029</td>\n",
       "      <td>12.956</td>\n",
       "      <td>-11.2</td>\n",
       "      <td>0.448680</td>\n",
       "    </tr>\n",
       "    <tr>\n",
       "      <th>1</th>\n",
       "      <td>2013</td>\n",
       "      <td>112.0</td>\n",
       "      <td>96.2</td>\n",
       "      <td>0.8516</td>\n",
       "      <td>51.9</td>\n",
       "      <td>49.3</td>\n",
       "      <td>17.1</td>\n",
       "      <td>21.3</td>\n",
       "      <td>29.0</td>\n",
       "      <td>34.2</td>\n",
       "      <td>...</td>\n",
       "      <td>80.035</td>\n",
       "      <td>1.826</td>\n",
       "      <td>24.940</td>\n",
       "      <td>70.8</td>\n",
       "      <td>68.8</td>\n",
       "      <td>1.031</td>\n",
       "      <td>0.980</td>\n",
       "      <td>25.212</td>\n",
       "      <td>-1.4</td>\n",
       "      <td>0.611722</td>\n",
       "    </tr>\n",
       "    <tr>\n",
       "      <th>2</th>\n",
       "      <td>2013</td>\n",
       "      <td>114.4</td>\n",
       "      <td>92.2</td>\n",
       "      <td>0.9229</td>\n",
       "      <td>52.5</td>\n",
       "      <td>46.6</td>\n",
       "      <td>19.5</td>\n",
       "      <td>19.8</td>\n",
       "      <td>35.0</td>\n",
       "      <td>26.7</td>\n",
       "      <td>...</td>\n",
       "      <td>78.906</td>\n",
       "      <td>1.956</td>\n",
       "      <td>4.688</td>\n",
       "      <td>70.7</td>\n",
       "      <td>71.2</td>\n",
       "      <td>1.018</td>\n",
       "      <td>1.038</td>\n",
       "      <td>12.869</td>\n",
       "      <td>-10.0</td>\n",
       "      <td>0.474138</td>\n",
       "    </tr>\n",
       "    <tr>\n",
       "      <th>3</th>\n",
       "      <td>2013</td>\n",
       "      <td>109.2</td>\n",
       "      <td>93.0</td>\n",
       "      <td>0.8624</td>\n",
       "      <td>50.7</td>\n",
       "      <td>46.7</td>\n",
       "      <td>20.2</td>\n",
       "      <td>17.4</td>\n",
       "      <td>35.9</td>\n",
       "      <td>26.3</td>\n",
       "      <td>...</td>\n",
       "      <td>79.883</td>\n",
       "      <td>1.667</td>\n",
       "      <td>3.239</td>\n",
       "      <td>72.4</td>\n",
       "      <td>68.8</td>\n",
       "      <td>1.008</td>\n",
       "      <td>1.016</td>\n",
       "      <td>14.044</td>\n",
       "      <td>-9.8</td>\n",
       "      <td>0.485830</td>\n",
       "    </tr>\n",
       "    <tr>\n",
       "      <th>4</th>\n",
       "      <td>2013</td>\n",
       "      <td>104.7</td>\n",
       "      <td>88.4</td>\n",
       "      <td>0.8749</td>\n",
       "      <td>48.9</td>\n",
       "      <td>44.1</td>\n",
       "      <td>20.2</td>\n",
       "      <td>18.5</td>\n",
       "      <td>33.3</td>\n",
       "      <td>27.1</td>\n",
       "      <td>...</td>\n",
       "      <td>81.109</td>\n",
       "      <td>1.664</td>\n",
       "      <td>55.458</td>\n",
       "      <td>70.3</td>\n",
       "      <td>69.5</td>\n",
       "      <td>1.027</td>\n",
       "      <td>0.977</td>\n",
       "      <td>26.463</td>\n",
       "      <td>-1.8</td>\n",
       "      <td>0.587629</td>\n",
       "    </tr>\n",
       "  </tbody>\n",
       "</table>\n",
       "<p>5 rows × 115 columns</p>\n",
       "</div>"
      ],
      "text/plain": [
       "   YEAR  ADJOE_ONE  ADJDE_ONE  BARTHAG_x_ONE  EFG_O_ONE  EFG_D_ONE  TOR_ONE  \\\n",
       "0  2013      108.1      111.2         0.4195       54.4       52.6     20.3   \n",
       "1  2013      112.0       96.2         0.8516       51.9       49.3     17.1   \n",
       "2  2013      114.4       92.2         0.9229       52.5       46.6     19.5   \n",
       "3  2013      109.2       93.0         0.8624       50.7       46.7     20.2   \n",
       "4  2013      104.7       88.4         0.8749       48.9       44.1     20.2   \n",
       "\n",
       "   TORD_ONE  ORB_ONE  DRB_ONE  ...  EFF HGT_TWO  EXP_TWO  TALENT_TWO  FT%_TWO  \\\n",
       "0      18.4     35.2     33.5  ...       79.880    1.595      19.579     69.9   \n",
       "1      21.3     29.0     34.2  ...       80.035    1.826      24.940     70.8   \n",
       "2      19.8     35.0     26.7  ...       78.906    1.956       4.688     70.7   \n",
       "3      17.4     35.9     26.3  ...       79.883    1.667       3.239     72.4   \n",
       "4      18.5     33.3     27.1  ...       81.109    1.664      55.458     70.3   \n",
       "\n",
       "   OP FT%_TWO  PPPO_TWO  PPPD_TWO  ELITE SOS_TWO  WAB_y_TWO  WIN_PCT_CONF_TWO  \n",
       "0        70.3     1.005     1.029         12.956      -11.2          0.448680  \n",
       "1        68.8     1.031     0.980         25.212       -1.4          0.611722  \n",
       "2        71.2     1.018     1.038         12.869      -10.0          0.474138  \n",
       "3        68.8     1.008     1.016         14.044       -9.8          0.485830  \n",
       "4        69.5     1.027     0.977         26.463       -1.8          0.587629  \n",
       "\n",
       "[5 rows x 115 columns]"
      ]
     },
     "execution_count": 4,
     "metadata": {},
     "output_type": "execute_result"
    }
   ],
   "source": [
    "traindf.head()"
   ]
  },
  {
   "cell_type": "markdown",
   "id": "f73937a4-1cd4-48a0-a0cb-f86a231ffefb",
   "metadata": {},
   "source": [
    "## Training Model\n",
    "We will train a new model - this time using XGBoost"
   ]
  },
  {
   "cell_type": "code",
   "execution_count": 5,
   "id": "ca2bb735-5284-4142-a939-b4e89929d395",
   "metadata": {},
   "outputs": [],
   "source": [
    "import xgboost as xgb"
   ]
  },
  {
   "cell_type": "code",
   "execution_count": 6,
   "id": "79261215-40c8-4514-bb64-50b0f13027a9",
   "metadata": {},
   "outputs": [],
   "source": [
    "train_features, test_features, train_labels, test_labels = train_test_split(traindf, labels, test_size = 0.20, random_state = 42)"
   ]
  },
  {
   "cell_type": "code",
   "execution_count": 7,
   "id": "c7323cf9-7a15-4d44-9cb2-7bf9b6c699eb",
   "metadata": {},
   "outputs": [],
   "source": [
    "# # Create classification matrices\n",
    "# dtrain_clf = xgb.DMatrix(train_features, train_labels)\n",
    "# dtest_clf = xgb.DMatrix(test_features, test_labels)"
   ]
  },
  {
   "cell_type": "code",
   "execution_count": 8,
   "id": "17e945fb-c55c-450b-a816-1828547b6dd9",
   "metadata": {},
   "outputs": [],
   "source": [
    "from sklearn.preprocessing import LabelEncoder\n",
    "le = LabelEncoder()\n",
    "train_labels = le.fit_transform(train_labels)"
   ]
  },
  {
   "cell_type": "code",
   "execution_count": 9,
   "id": "cd55008b-be63-4f24-b240-2e8b2c916a54",
   "metadata": {},
   "outputs": [],
   "source": [
    "test_labels = le.fit_transform(test_labels)"
   ]
  },
  {
   "cell_type": "code",
   "execution_count": 10,
   "id": "e79ec5e4-bdfc-4b74-93d4-19201922b1fa",
   "metadata": {},
   "outputs": [
    {
     "data": {
      "text/html": [
       "<style>#sk-container-id-1 {color: black;}#sk-container-id-1 pre{padding: 0;}#sk-container-id-1 div.sk-toggleable {background-color: white;}#sk-container-id-1 label.sk-toggleable__label {cursor: pointer;display: block;width: 100%;margin-bottom: 0;padding: 0.3em;box-sizing: border-box;text-align: center;}#sk-container-id-1 label.sk-toggleable__label-arrow:before {content: \"▸\";float: left;margin-right: 0.25em;color: #696969;}#sk-container-id-1 label.sk-toggleable__label-arrow:hover:before {color: black;}#sk-container-id-1 div.sk-estimator:hover label.sk-toggleable__label-arrow:before {color: black;}#sk-container-id-1 div.sk-toggleable__content {max-height: 0;max-width: 0;overflow: hidden;text-align: left;background-color: #f0f8ff;}#sk-container-id-1 div.sk-toggleable__content pre {margin: 0.2em;color: black;border-radius: 0.25em;background-color: #f0f8ff;}#sk-container-id-1 input.sk-toggleable__control:checked~div.sk-toggleable__content {max-height: 200px;max-width: 100%;overflow: auto;}#sk-container-id-1 input.sk-toggleable__control:checked~label.sk-toggleable__label-arrow:before {content: \"▾\";}#sk-container-id-1 div.sk-estimator input.sk-toggleable__control:checked~label.sk-toggleable__label {background-color: #d4ebff;}#sk-container-id-1 div.sk-label input.sk-toggleable__control:checked~label.sk-toggleable__label {background-color: #d4ebff;}#sk-container-id-1 input.sk-hidden--visually {border: 0;clip: rect(1px 1px 1px 1px);clip: rect(1px, 1px, 1px, 1px);height: 1px;margin: -1px;overflow: hidden;padding: 0;position: absolute;width: 1px;}#sk-container-id-1 div.sk-estimator {font-family: monospace;background-color: #f0f8ff;border: 1px dotted black;border-radius: 0.25em;box-sizing: border-box;margin-bottom: 0.5em;}#sk-container-id-1 div.sk-estimator:hover {background-color: #d4ebff;}#sk-container-id-1 div.sk-parallel-item::after {content: \"\";width: 100%;border-bottom: 1px solid gray;flex-grow: 1;}#sk-container-id-1 div.sk-label:hover label.sk-toggleable__label {background-color: #d4ebff;}#sk-container-id-1 div.sk-serial::before {content: \"\";position: absolute;border-left: 1px solid gray;box-sizing: border-box;top: 0;bottom: 0;left: 50%;z-index: 0;}#sk-container-id-1 div.sk-serial {display: flex;flex-direction: column;align-items: center;background-color: white;padding-right: 0.2em;padding-left: 0.2em;position: relative;}#sk-container-id-1 div.sk-item {position: relative;z-index: 1;}#sk-container-id-1 div.sk-parallel {display: flex;align-items: stretch;justify-content: center;background-color: white;position: relative;}#sk-container-id-1 div.sk-item::before, #sk-container-id-1 div.sk-parallel-item::before {content: \"\";position: absolute;border-left: 1px solid gray;box-sizing: border-box;top: 0;bottom: 0;left: 50%;z-index: -1;}#sk-container-id-1 div.sk-parallel-item {display: flex;flex-direction: column;z-index: 1;position: relative;background-color: white;}#sk-container-id-1 div.sk-parallel-item:first-child::after {align-self: flex-end;width: 50%;}#sk-container-id-1 div.sk-parallel-item:last-child::after {align-self: flex-start;width: 50%;}#sk-container-id-1 div.sk-parallel-item:only-child::after {width: 0;}#sk-container-id-1 div.sk-dashed-wrapped {border: 1px dashed gray;margin: 0 0.4em 0.5em 0.4em;box-sizing: border-box;padding-bottom: 0.4em;background-color: white;}#sk-container-id-1 div.sk-label label {font-family: monospace;font-weight: bold;display: inline-block;line-height: 1.2em;}#sk-container-id-1 div.sk-label-container {text-align: center;}#sk-container-id-1 div.sk-container {/* jupyter's `normalize.less` sets `[hidden] { display: none; }` but bootstrap.min.css set `[hidden] { display: none !important; }` so we also need the `!important` here to be able to override the default hidden behavior on the sphinx rendered scikit-learn.org. See: https://github.com/scikit-learn/scikit-learn/issues/21755 */display: inline-block !important;position: relative;}#sk-container-id-1 div.sk-text-repr-fallback {display: none;}</style><div id=\"sk-container-id-1\" class=\"sk-top-container\"><div class=\"sk-text-repr-fallback\"><pre>XGBClassifier(base_score=None, booster=None, callbacks=None,\n",
       "              colsample_bylevel=None, colsample_bynode=None,\n",
       "              colsample_bytree=None, early_stopping_rounds=None,\n",
       "              enable_categorical=False, eval_metric=None, feature_types=None,\n",
       "              gamma=None, gpu_id=None, grow_policy=None, importance_type=None,\n",
       "              interaction_constraints=None, learning_rate=None, max_bin=None,\n",
       "              max_cat_threshold=None, max_cat_to_onehot=None,\n",
       "              max_delta_step=None, max_depth=5, max_leaves=None,\n",
       "              min_child_weight=None, missing=nan, monotone_constraints=None,\n",
       "              n_estimators=100, n_jobs=None, num_parallel_tree=None,\n",
       "              predictor=None, random_state=None, ...)</pre><b>In a Jupyter environment, please rerun this cell to show the HTML representation or trust the notebook. <br />On GitHub, the HTML representation is unable to render, please try loading this page with nbviewer.org.</b></div><div class=\"sk-container\" hidden><div class=\"sk-item\"><div class=\"sk-estimator sk-toggleable\"><input class=\"sk-toggleable__control sk-hidden--visually\" id=\"sk-estimator-id-1\" type=\"checkbox\" checked><label for=\"sk-estimator-id-1\" class=\"sk-toggleable__label sk-toggleable__label-arrow\">XGBClassifier</label><div class=\"sk-toggleable__content\"><pre>XGBClassifier(base_score=None, booster=None, callbacks=None,\n",
       "              colsample_bylevel=None, colsample_bynode=None,\n",
       "              colsample_bytree=None, early_stopping_rounds=None,\n",
       "              enable_categorical=False, eval_metric=None, feature_types=None,\n",
       "              gamma=None, gpu_id=None, grow_policy=None, importance_type=None,\n",
       "              interaction_constraints=None, learning_rate=None, max_bin=None,\n",
       "              max_cat_threshold=None, max_cat_to_onehot=None,\n",
       "              max_delta_step=None, max_depth=5, max_leaves=None,\n",
       "              min_child_weight=None, missing=nan, monotone_constraints=None,\n",
       "              n_estimators=100, n_jobs=None, num_parallel_tree=None,\n",
       "              predictor=None, random_state=None, ...)</pre></div></div></div></div></div>"
      ],
      "text/plain": [
       "XGBClassifier(base_score=None, booster=None, callbacks=None,\n",
       "              colsample_bylevel=None, colsample_bynode=None,\n",
       "              colsample_bytree=None, early_stopping_rounds=None,\n",
       "              enable_categorical=False, eval_metric=None, feature_types=None,\n",
       "              gamma=None, gpu_id=None, grow_policy=None, importance_type=None,\n",
       "              interaction_constraints=None, learning_rate=None, max_bin=None,\n",
       "              max_cat_threshold=None, max_cat_to_onehot=None,\n",
       "              max_delta_step=None, max_depth=5, max_leaves=None,\n",
       "              min_child_weight=None, missing=nan, monotone_constraints=None,\n",
       "              n_estimators=100, n_jobs=None, num_parallel_tree=None,\n",
       "              predictor=None, random_state=None, ...)"
      ]
     },
     "execution_count": 10,
     "metadata": {},
     "output_type": "execute_result"
    }
   ],
   "source": [
    "clf = xgb.XGBClassifier(max_depth=5)\n",
    "# Fit the model, test sets are used for early stopping.\n",
    "clf.fit(train_features.values, train_labels)"
   ]
  },
  {
   "cell_type": "code",
   "execution_count": 11,
   "id": "77b37216-c02d-480f-b49a-4ba1ed5e444e",
   "metadata": {},
   "outputs": [
    {
     "name": "stdout",
     "output_type": "stream",
     "text": [
      "Accuracy: 71.30%\n"
     ]
    }
   ],
   "source": [
    "y_pred = clf.predict(test_features.values)\n",
    "predictions = [round(value) for value in y_pred]\n",
    "# evaluate predictions\n",
    "accuracy = metrics.accuracy_score(test_labels, predictions)\n",
    "print(\"Accuracy: %.2f%%\" % (accuracy * 100.0))"
   ]
  },
  {
   "cell_type": "markdown",
   "id": "d356daf6-d30a-45ab-aee7-0a957bdf8be2",
   "metadata": {},
   "source": [
    "## Running Predictions for 2024 (Sweet Sixteen Onward)"
   ]
  },
  {
   "cell_type": "code",
   "execution_count": 12,
   "id": "d5053ce8-e601-4bf0-b8b1-e0a1be10d043",
   "metadata": {},
   "outputs": [
    {
     "data": {
      "text/html": [
       "<div>\n",
       "<style scoped>\n",
       "    .dataframe tbody tr th:only-of-type {\n",
       "        vertical-align: middle;\n",
       "    }\n",
       "\n",
       "    .dataframe tbody tr th {\n",
       "        vertical-align: top;\n",
       "    }\n",
       "\n",
       "    .dataframe thead th {\n",
       "        text-align: right;\n",
       "    }\n",
       "</style>\n",
       "<table border=\"1\" class=\"dataframe\">\n",
       "  <thead>\n",
       "    <tr style=\"text-align: right;\">\n",
       "      <th></th>\n",
       "      <th>TEAM</th>\n",
       "      <th>CONF</th>\n",
       "      <th>ADJOE</th>\n",
       "      <th>ADJDE</th>\n",
       "      <th>BARTHAG_x</th>\n",
       "      <th>EFG_O</th>\n",
       "      <th>EFG_D</th>\n",
       "      <th>TOR</th>\n",
       "      <th>TORD</th>\n",
       "      <th>ORB</th>\n",
       "      <th>...</th>\n",
       "      <th>EFF HGT</th>\n",
       "      <th>EXP</th>\n",
       "      <th>TALENT</th>\n",
       "      <th>FT%</th>\n",
       "      <th>OP FT%</th>\n",
       "      <th>PPPO</th>\n",
       "      <th>PPPD</th>\n",
       "      <th>ELITE SOS</th>\n",
       "      <th>WAB_y</th>\n",
       "      <th>WIN_PCT_CONF</th>\n",
       "    </tr>\n",
       "  </thead>\n",
       "  <tbody>\n",
       "    <tr>\n",
       "      <th>0</th>\n",
       "      <td>Dayton</td>\n",
       "      <td>A10</td>\n",
       "      <td>117.5</td>\n",
       "      <td>100.8</td>\n",
       "      <td>0.8535</td>\n",
       "      <td>56.6</td>\n",
       "      <td>47.9</td>\n",
       "      <td>15.8</td>\n",
       "      <td>15.7</td>\n",
       "      <td>26.9</td>\n",
       "      <td>...</td>\n",
       "      <td>80.244</td>\n",
       "      <td>1.872</td>\n",
       "      <td>18.179</td>\n",
       "      <td>72.2</td>\n",
       "      <td>71.7</td>\n",
       "      <td>1.073</td>\n",
       "      <td>1.033</td>\n",
       "      <td>17.561</td>\n",
       "      <td>-4.2</td>\n",
       "      <td>0.579345</td>\n",
       "    </tr>\n",
       "    <tr>\n",
       "      <th>1</th>\n",
       "      <td>Duquesne</td>\n",
       "      <td>A10</td>\n",
       "      <td>106.4</td>\n",
       "      <td>96.2</td>\n",
       "      <td>0.7619</td>\n",
       "      <td>50.1</td>\n",
       "      <td>48.0</td>\n",
       "      <td>17.5</td>\n",
       "      <td>19.5</td>\n",
       "      <td>29.9</td>\n",
       "      <td>...</td>\n",
       "      <td>80.244</td>\n",
       "      <td>1.872</td>\n",
       "      <td>18.179</td>\n",
       "      <td>72.2</td>\n",
       "      <td>71.7</td>\n",
       "      <td>1.073</td>\n",
       "      <td>1.033</td>\n",
       "      <td>17.561</td>\n",
       "      <td>-4.2</td>\n",
       "      <td>0.579345</td>\n",
       "    </tr>\n",
       "    <tr>\n",
       "      <th>2</th>\n",
       "      <td>North Carolina</td>\n",
       "      <td>ACC</td>\n",
       "      <td>116.8</td>\n",
       "      <td>93.4</td>\n",
       "      <td>0.9291</td>\n",
       "      <td>51.3</td>\n",
       "      <td>46.4</td>\n",
       "      <td>14.4</td>\n",
       "      <td>14.9</td>\n",
       "      <td>32.8</td>\n",
       "      <td>...</td>\n",
       "      <td>81.051</td>\n",
       "      <td>1.648</td>\n",
       "      <td>61.688</td>\n",
       "      <td>73.6</td>\n",
       "      <td>72.8</td>\n",
       "      <td>1.081</td>\n",
       "      <td>1.026</td>\n",
       "      <td>26.024</td>\n",
       "      <td>-1.3</td>\n",
       "      <td>0.587805</td>\n",
       "    </tr>\n",
       "    <tr>\n",
       "      <th>3</th>\n",
       "      <td>Duke</td>\n",
       "      <td>ACC</td>\n",
       "      <td>120.8</td>\n",
       "      <td>97.0</td>\n",
       "      <td>0.9259</td>\n",
       "      <td>55.2</td>\n",
       "      <td>49.0</td>\n",
       "      <td>14.3</td>\n",
       "      <td>16.9</td>\n",
       "      <td>31.8</td>\n",
       "      <td>...</td>\n",
       "      <td>81.051</td>\n",
       "      <td>1.648</td>\n",
       "      <td>61.688</td>\n",
       "      <td>73.6</td>\n",
       "      <td>72.8</td>\n",
       "      <td>1.081</td>\n",
       "      <td>1.026</td>\n",
       "      <td>26.024</td>\n",
       "      <td>-1.3</td>\n",
       "      <td>0.587805</td>\n",
       "    </tr>\n",
       "    <tr>\n",
       "      <th>4</th>\n",
       "      <td>Clemson</td>\n",
       "      <td>ACC</td>\n",
       "      <td>116.7</td>\n",
       "      <td>99.4</td>\n",
       "      <td>0.8630</td>\n",
       "      <td>53.9</td>\n",
       "      <td>48.7</td>\n",
       "      <td>14.9</td>\n",
       "      <td>13.6</td>\n",
       "      <td>27.7</td>\n",
       "      <td>...</td>\n",
       "      <td>81.051</td>\n",
       "      <td>1.648</td>\n",
       "      <td>61.688</td>\n",
       "      <td>73.6</td>\n",
       "      <td>72.8</td>\n",
       "      <td>1.081</td>\n",
       "      <td>1.026</td>\n",
       "      <td>26.024</td>\n",
       "      <td>-1.3</td>\n",
       "      <td>0.587805</td>\n",
       "    </tr>\n",
       "  </tbody>\n",
       "</table>\n",
       "<p>5 rows × 62 columns</p>\n",
       "</div>"
      ],
      "text/plain": [
       "             TEAM CONF  ADJOE  ADJDE  BARTHAG_x  EFG_O  EFG_D   TOR  TORD  \\\n",
       "0          Dayton  A10  117.5  100.8     0.8535   56.6   47.9  15.8  15.7   \n",
       "1        Duquesne  A10  106.4   96.2     0.7619   50.1   48.0  17.5  19.5   \n",
       "2  North Carolina  ACC  116.8   93.4     0.9291   51.3   46.4  14.4  14.9   \n",
       "3            Duke  ACC  120.8   97.0     0.9259   55.2   49.0  14.3  16.9   \n",
       "4         Clemson  ACC  116.7   99.4     0.8630   53.9   48.7  14.9  13.6   \n",
       "\n",
       "    ORB  ...  EFF HGT    EXP  TALENT   FT%  OP FT%   PPPO   PPPD  ELITE SOS  \\\n",
       "0  26.9  ...   80.244  1.872  18.179  72.2    71.7  1.073  1.033     17.561   \n",
       "1  29.9  ...   80.244  1.872  18.179  72.2    71.7  1.073  1.033     17.561   \n",
       "2  32.8  ...   81.051  1.648  61.688  73.6    72.8  1.081  1.026     26.024   \n",
       "3  31.8  ...   81.051  1.648  61.688  73.6    72.8  1.081  1.026     26.024   \n",
       "4  27.7  ...   81.051  1.648  61.688  73.6    72.8  1.081  1.026     26.024   \n",
       "\n",
       "   WAB_y  WIN_PCT_CONF  \n",
       "0   -4.2      0.579345  \n",
       "1   -4.2      0.579345  \n",
       "2   -1.3      0.587805  \n",
       "3   -1.3      0.587805  \n",
       "4   -1.3      0.587805  \n",
       "\n",
       "[5 rows x 62 columns]"
      ]
     },
     "execution_count": 12,
     "metadata": {},
     "output_type": "execute_result"
    }
   ],
   "source": [
    "pdf = pd.read_csv('./data/lookup_table.csv') # to lookup team info to construct our input data, exported from predict.ipynb\n",
    "pdf.drop(['Unnamed: 0'], axis=1, inplace=True)\n",
    "pdf.head()"
   ]
  },
  {
   "cell_type": "code",
   "execution_count": 13,
   "id": "5d480f98-1696-4d67-8035-f1577621e6a1",
   "metadata": {},
   "outputs": [],
   "source": [
    "# function taken from predict.ipynb\n",
    "def construct_matchup(team1, team2):\n",
    "    pdf_temp = pdf.copy()\n",
    "    team1_data = pdf_temp[pdf_temp['TEAM'] == team1]\n",
    "    team2_data = pdf_temp[pdf_temp['TEAM'] == team2]\n",
    "    input_data = team1_data.merge(team2_data, on='YEAR', suffixes=['_ONE', '_TWO']).copy()\n",
    "    input_data.drop(['TEAM_ONE',\n",
    " 'CONF_ONE',\n",
    " '3PR_ONE',\n",
    " '3PRD_ONE',\n",
    " 'TEAM_TWO',\n",
    " 'CONF_TWO',\n",
    " '3PR_TWO',\n",
    " '3PRD_TWO'], axis=1, inplace=True)\n",
    "    return input_data"
   ]
  },
  {
   "cell_type": "code",
   "execution_count": 14,
   "id": "8adb7ea9-f7fa-43c4-880d-81dd5049e8be",
   "metadata": {
    "scrolled": true
   },
   "outputs": [
    {
     "data": {
      "text/html": [
       "<div>\n",
       "<style scoped>\n",
       "    .dataframe tbody tr th:only-of-type {\n",
       "        vertical-align: middle;\n",
       "    }\n",
       "\n",
       "    .dataframe tbody tr th {\n",
       "        vertical-align: top;\n",
       "    }\n",
       "\n",
       "    .dataframe thead th {\n",
       "        text-align: right;\n",
       "    }\n",
       "</style>\n",
       "<table border=\"1\" class=\"dataframe\">\n",
       "  <thead>\n",
       "    <tr style=\"text-align: right;\">\n",
       "      <th></th>\n",
       "      <th>ADJOE_ONE</th>\n",
       "      <th>ADJDE_ONE</th>\n",
       "      <th>BARTHAG_x_ONE</th>\n",
       "      <th>EFG_O_ONE</th>\n",
       "      <th>EFG_D_ONE</th>\n",
       "      <th>TOR_ONE</th>\n",
       "      <th>TORD_ONE</th>\n",
       "      <th>ORB_ONE</th>\n",
       "      <th>DRB_ONE</th>\n",
       "      <th>FTR_x_ONE</th>\n",
       "      <th>...</th>\n",
       "      <th>EFF HGT_TWO</th>\n",
       "      <th>EXP_TWO</th>\n",
       "      <th>TALENT_TWO</th>\n",
       "      <th>FT%_TWO</th>\n",
       "      <th>OP FT%_TWO</th>\n",
       "      <th>PPPO_TWO</th>\n",
       "      <th>PPPD_TWO</th>\n",
       "      <th>ELITE SOS_TWO</th>\n",
       "      <th>WAB_y_TWO</th>\n",
       "      <th>WIN_PCT_CONF_TWO</th>\n",
       "    </tr>\n",
       "  </thead>\n",
       "  <tbody>\n",
       "    <tr>\n",
       "      <th>0</th>\n",
       "      <td>126.9</td>\n",
       "      <td>93.8</td>\n",
       "      <td>0.97</td>\n",
       "      <td>57.1</td>\n",
       "      <td>45.1</td>\n",
       "      <td>14.9</td>\n",
       "      <td>16.2</td>\n",
       "      <td>36.5</td>\n",
       "      <td>26.8</td>\n",
       "      <td>33.3</td>\n",
       "      <td>...</td>\n",
       "      <td>81.153</td>\n",
       "      <td>1.987</td>\n",
       "      <td>57.308</td>\n",
       "      <td>72.4</td>\n",
       "      <td>72.3</td>\n",
       "      <td>1.099</td>\n",
       "      <td>1.028</td>\n",
       "      <td>29.652</td>\n",
       "      <td>0.1</td>\n",
       "      <td>0.603627</td>\n",
       "    </tr>\n",
       "  </tbody>\n",
       "</table>\n",
       "<p>1 rows × 115 columns</p>\n",
       "</div>"
      ],
      "text/plain": [
       "   ADJOE_ONE  ADJDE_ONE  BARTHAG_x_ONE  EFG_O_ONE  EFG_D_ONE  TOR_ONE  \\\n",
       "0      126.9       93.8           0.97       57.1       45.1     14.9   \n",
       "\n",
       "   TORD_ONE  ORB_ONE  DRB_ONE  FTR_x_ONE  ...  EFF HGT_TWO  EXP_TWO  \\\n",
       "0      16.2     36.5     26.8       33.3  ...       81.153    1.987   \n",
       "\n",
       "   TALENT_TWO  FT%_TWO  OP FT%_TWO  PPPO_TWO  PPPD_TWO  ELITE SOS_TWO  \\\n",
       "0      57.308     72.4        72.3     1.099     1.028         29.652   \n",
       "\n",
       "   WAB_y_TWO  WIN_PCT_CONF_TWO  \n",
       "0        0.1          0.603627  \n",
       "\n",
       "[1 rows x 115 columns]"
      ]
     },
     "execution_count": 14,
     "metadata": {},
     "output_type": "execute_result"
    }
   ],
   "source": [
    "test = construct_matchup('Connecticut', 'Purdue') # example\n",
    "test"
   ]
  },
  {
   "cell_type": "markdown",
   "id": "ad065183-6216-411b-a560-f496f7065c32",
   "metadata": {},
   "source": [
    "### Modified code from simulator.ipynb with model replaced"
   ]
  },
  {
   "cell_type": "code",
   "execution_count": 15,
   "id": "2f66b733-b614-4d2f-aa39-b1c9ed822b2c",
   "metadata": {},
   "outputs": [],
   "source": [
    "# given two teams, this function will determine who the winner will be using our ML model\n",
    "def predict(team1, team2):\n",
    "    input_data = construct_matchup(team1, team2)\n",
    "    input_data['YEAR'] = 2024 # hard coding\n",
    "    input_data = input_data[traindf.columns] # to ensure column ordering matches that of training data\n",
    "    try:  \n",
    "        result = clf.predict(np.array(input_data).reshape(1,-1))\n",
    "    except ValueError:\n",
    "        print(f'Either {team1} or {team2} not in list')\n",
    "    if result == 0: # Xgboost needs classes to start from 0, not 1 \n",
    "        winner = team1\n",
    "    elif result == 1:\n",
    "        winner = team2\n",
    "    print(f\"Between {team1} and {team2} | {winner} won!\")\n",
    "    return winner"
   ]
  },
  {
   "cell_type": "code",
   "execution_count": 25,
   "id": "b9593139-98f8-4df0-8f70-519a5536f318",
   "metadata": {},
   "outputs": [
    {
     "name": "stdout",
     "output_type": "stream",
     "text": [
      "Between Connecticut and San Diego St. | Connecticut won!\n",
      "Between Illinois and Iowa St. | Iowa St. won!\n"
     ]
    },
    {
     "data": {
      "text/plain": [
       "'Iowa St.'"
      ]
     },
     "execution_count": 25,
     "metadata": {},
     "output_type": "execute_result"
    }
   ],
   "source": [
    "# East Region - Sweet 16\n",
    "predict('Connecticut', 'San Diego St.')\n",
    "predict('Illinois', 'Iowa St.')"
   ]
  },
  {
   "cell_type": "code",
   "execution_count": 26,
   "id": "83c7164a-1ec4-444a-96f9-985c576df1d8",
   "metadata": {},
   "outputs": [
    {
     "name": "stdout",
     "output_type": "stream",
     "text": [
      "Between Connecticut and Iowa St. | Connecticut won!\n"
     ]
    },
    {
     "data": {
      "text/plain": [
       "'Connecticut'"
      ]
     },
     "execution_count": 26,
     "metadata": {},
     "output_type": "execute_result"
    }
   ],
   "source": [
    "predict('Connecticut', 'Iowa St.') # Final Four east WINNER"
   ]
  },
  {
   "cell_type": "code",
   "execution_count": 27,
   "id": "37a2e389-7077-42c3-b72a-373e8d56f87a",
   "metadata": {},
   "outputs": [
    {
     "name": "stdout",
     "output_type": "stream",
     "text": [
      "Between North Carolina and Alabama | North Carolina won!\n",
      "Between Clemson and Arizona | Arizona won!\n"
     ]
    },
    {
     "data": {
      "text/plain": [
       "'Arizona'"
      ]
     },
     "execution_count": 27,
     "metadata": {},
     "output_type": "execute_result"
    }
   ],
   "source": [
    "predict('North Carolina', 'Alabama')\n",
    "predict('Clemson', 'Arizona')"
   ]
  },
  {
   "cell_type": "code",
   "execution_count": 28,
   "id": "d0178859-b4e5-4562-8286-0c2ff9cb3e7a",
   "metadata": {},
   "outputs": [
    {
     "name": "stdout",
     "output_type": "stream",
     "text": [
      "Between North Carolina and Arizona | Arizona won!\n"
     ]
    },
    {
     "data": {
      "text/plain": [
       "'Arizona'"
      ]
     },
     "execution_count": 28,
     "metadata": {},
     "output_type": "execute_result"
    }
   ],
   "source": [
    "predict('North Carolina', 'Arizona') # Final Four west WINNER"
   ]
  },
  {
   "cell_type": "code",
   "execution_count": 29,
   "id": "2d6bfbf3-23ba-4101-b262-f873322f925a",
   "metadata": {},
   "outputs": [
    {
     "name": "stdout",
     "output_type": "stream",
     "text": [
      "Between Houston and Duke | Houston won!\n",
      "Between North Carolina St. and Marquette | Marquette won!\n"
     ]
    },
    {
     "data": {
      "text/plain": [
       "'Marquette'"
      ]
     },
     "execution_count": 29,
     "metadata": {},
     "output_type": "execute_result"
    }
   ],
   "source": [
    "# South -Sweet 16\n",
    "predict('Houston', 'Duke')\n",
    "predict('North Carolina St.', 'Marquette')"
   ]
  },
  {
   "cell_type": "code",
   "execution_count": 30,
   "id": "71769d3b-fdc5-4538-88d9-1c0bd724234c",
   "metadata": {},
   "outputs": [
    {
     "name": "stdout",
     "output_type": "stream",
     "text": [
      "Between Houston and Marquette | Houston won!\n"
     ]
    },
    {
     "data": {
      "text/plain": [
       "'Houston'"
      ]
     },
     "execution_count": 30,
     "metadata": {},
     "output_type": "execute_result"
    }
   ],
   "source": [
    "predict('Houston', 'Marquette') # Final Four south WINNER"
   ]
  },
  {
   "cell_type": "code",
   "execution_count": 31,
   "id": "7a7f872b-5a42-4934-ba80-c3b4727b0d8b",
   "metadata": {},
   "outputs": [
    {
     "name": "stdout",
     "output_type": "stream",
     "text": [
      "Between Purdue and Gonzaga | Purdue won!\n",
      "Between Creighton and Tennessee | Tennessee won!\n"
     ]
    },
    {
     "data": {
      "text/plain": [
       "'Tennessee'"
      ]
     },
     "execution_count": 31,
     "metadata": {},
     "output_type": "execute_result"
    }
   ],
   "source": [
    "predict('Purdue', 'Gonzaga')\n",
    "predict('Creighton', 'Tennessee')"
   ]
  },
  {
   "cell_type": "code",
   "execution_count": 32,
   "id": "2c369b20-1c84-482a-9a80-b5ef1e818caa",
   "metadata": {},
   "outputs": [
    {
     "name": "stdout",
     "output_type": "stream",
     "text": [
      "Between Purdue and Tennessee | Purdue won!\n"
     ]
    },
    {
     "data": {
      "text/plain": [
       "'Purdue'"
      ]
     },
     "execution_count": 32,
     "metadata": {},
     "output_type": "execute_result"
    }
   ],
   "source": [
    "predict('Purdue', 'Tennessee') # Final Four midwest WINNER"
   ]
  },
  {
   "cell_type": "markdown",
   "id": "427d3994-715c-4fe9-adfe-d55349135a8c",
   "metadata": {},
   "source": [
    "### Final Four and Finals!"
   ]
  },
  {
   "cell_type": "code",
   "execution_count": 33,
   "id": "76398607-338b-46bc-9f2e-ae0a53218688",
   "metadata": {},
   "outputs": [
    {
     "name": "stdout",
     "output_type": "stream",
     "text": [
      "Between Connecticut and Arizona | Connecticut won!\n"
     ]
    },
    {
     "data": {
      "text/plain": [
       "'Connecticut'"
      ]
     },
     "execution_count": 33,
     "metadata": {},
     "output_type": "execute_result"
    }
   ],
   "source": [
    "#east/west Final Four\n",
    "predict('Connecticut', 'Arizona')"
   ]
  },
  {
   "cell_type": "code",
   "execution_count": 34,
   "id": "f001ff97-8141-498e-96d3-c57e9056c46b",
   "metadata": {},
   "outputs": [
    {
     "name": "stdout",
     "output_type": "stream",
     "text": [
      "Between Houston and Purdue | Houston won!\n"
     ]
    },
    {
     "data": {
      "text/plain": [
       "'Houston'"
      ]
     },
     "execution_count": 34,
     "metadata": {},
     "output_type": "execute_result"
    }
   ],
   "source": [
    "predict('Houston', 'Purdue') # south/midwest Final Four"
   ]
  },
  {
   "cell_type": "code",
   "execution_count": 35,
   "id": "46e69a13-bb82-45c4-9781-ad71cdca57b4",
   "metadata": {},
   "outputs": [
    {
     "name": "stdout",
     "output_type": "stream",
     "text": [
      "Between Connecticut and Houston | Connecticut won!\n"
     ]
    },
    {
     "data": {
      "text/plain": [
       "'Connecticut'"
      ]
     },
     "execution_count": 35,
     "metadata": {},
     "output_type": "execute_result"
    }
   ],
   "source": [
    "# CHAMPIONSHIP\n",
    "predict('Connecticut', 'Houston')"
   ]
  },
  {
   "cell_type": "code",
   "execution_count": null,
   "id": "4b1f1a72-20cd-4008-bdb1-a69de0a233b1",
   "metadata": {},
   "outputs": [],
   "source": []
  }
 ],
 "metadata": {
  "kernelspec": {
   "display_name": "Python 3 (ipykernel)",
   "language": "python",
   "name": "python3"
  },
  "language_info": {
   "codemirror_mode": {
    "name": "ipython",
    "version": 3
   },
   "file_extension": ".py",
   "mimetype": "text/x-python",
   "name": "python",
   "nbconvert_exporter": "python",
   "pygments_lexer": "ipython3",
   "version": "3.12.2"
  }
 },
 "nbformat": 4,
 "nbformat_minor": 5
}
